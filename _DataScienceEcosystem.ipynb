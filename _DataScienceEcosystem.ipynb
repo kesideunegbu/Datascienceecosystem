{
 "cells": [
  {
   "cell_type": "markdown",
   "id": "21a9d968",
   "metadata": {},
   "source": [
    "# data science tools and ecosystem"
   ]
  },
  {
   "cell_type": "markdown",
   "id": "53cbdcf5",
   "metadata": {},
   "source": [
    "## In this notebook, Data Science Tools and Ecosystem are summarized."
   ]
  },
  {
   "cell_type": "markdown",
   "id": "ef913908",
   "metadata": {},
   "source": [
    "## Author\n",
    "keside"
   ]
  },
  {
   "cell_type": "markdown",
   "id": "d8c39048",
   "metadata": {},
   "source": [
    "### objectives:\n",
    "- list popular data science languages\n",
    "- list data science libraries\n",
    "- evaluated arithmetic expressions"
   ]
  },
  {
   "cell_type": "markdown",
   "id": "c4695bb3",
   "metadata": {},
   "source": [
    "### some of the most popular data science languages are: Python, R and SQl"
   ]
  },
  {
   "cell_type": "markdown",
   "id": "cf94d91f",
   "metadata": {},
   "source": [
    "1. Python\n",
    "2. R\n",
    "3. SQL"
   ]
  },
  {
   "cell_type": "markdown",
   "id": "c7c3515d",
   "metadata": {},
   "source": [
    "### Some of the commonly used libraries used by Data Scientists include:"
   ]
  },
  {
   "cell_type": "markdown",
   "id": "0043b235",
   "metadata": {},
   "source": [
    "1. Pandas\n",
    "2. Matplotlib\n",
    "3. ploty"
   ]
  },
  {
   "cell_type": "markdown",
   "id": "62433fd5",
   "metadata": {},
   "source": [
    "| Data science tools  |\n",
    "| Github| \n",
    "| Jupyter lab |\n",
    "| Google cloud | \n"
   ]
  },
  {
   "cell_type": "markdown",
   "id": "0b47bb30",
   "metadata": {},
   "source": [
    "### Below are a few examples of evaluating arithmetic expressions in Python"
   ]
  },
  {
   "cell_type": "code",
   "execution_count": 2,
   "id": "2b6795da",
   "metadata": {},
   "outputs": [
    {
     "data": {
      "text/plain": [
       "17"
      ]
     },
     "execution_count": 2,
     "metadata": {},
     "output_type": "execute_result"
    }
   ],
   "source": [
    "#  This a simple arithmetic expression to mutiply then add integers\n",
    "(3*4)+5"
   ]
  },
  {
   "cell_type": "code",
   "execution_count": 3,
   "id": "4134ed6f",
   "metadata": {},
   "outputs": [
    {
     "data": {
      "text/plain": [
       "3.3333333333333335"
      ]
     },
     "execution_count": 3,
     "metadata": {},
     "output_type": "execute_result"
    }
   ],
   "source": [
    "# This will convert 200 minutes to hours by diving by 60\n",
    "200/60"
   ]
  },
  {
   "cell_type": "code",
   "execution_count": null,
   "id": "8cb7dbd8",
   "metadata": {},
   "outputs": [],
   "source": []
  }
 ],
 "metadata": {
  "kernelspec": {
   "display_name": "Python 3 (ipykernel)",
   "language": "python",
   "name": "python3"
  },
  "language_info": {
   "codemirror_mode": {
    "name": "ipython",
    "version": 3
   },
   "file_extension": ".py",
   "mimetype": "text/x-python",
   "name": "python",
   "nbconvert_exporter": "python",
   "pygments_lexer": "ipython3",
   "version": "3.11.7"
  }
 },
 "nbformat": 4,
 "nbformat_minor": 5
}
